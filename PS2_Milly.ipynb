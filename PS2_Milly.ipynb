{
 "cells": [
  {
   "cell_type": "code",
   "execution_count": null,
   "id": "5a3e0fc1",
   "metadata": {},
   "outputs": [],
   "source": [
    "#Exercise 1 - Exploring the data "
   ]
  },
  {
   "cell_type": "code",
   "execution_count": 1,
   "id": "94db04f7",
   "metadata": {
    "scrolled": true
   },
   "outputs": [
    {
     "name": "stdout",
     "output_type": "stream",
     "text": [
      "           hhid       wave  year  region   district           county  urban  \\\n",
      "0    1013000204  2011-2012  2012       1  KALANGALA         KYAMUSWA      0   \n",
      "1    1013000206  2011-2012  2012       1    KAMPALA  RUBAGA DIVISION      0   \n",
      "2    1013000210  2011-2012  2012       1  KALANGALA         KYAMUSWA      0   \n",
      "3    1013000212  2011-2012  2012       4   KYEGEGWA            KYAKA      0   \n",
      "4  101300021302  2011-2012  2012       1      MPIGI         MAWOKOTA      0   \n",
      "\n",
      "   year_surv  month_surv  head_gender  ...       income   wage_labor  \\\n",
      "0       2012           3          1.0  ...   717.277761          NaN   \n",
      "1       2012           9          1.0  ...  1839.529498   949.476802   \n",
      "2       2012           2          1.0  ...    91.623072          NaN   \n",
      "3       2012           3          1.0  ...  2617.802047  1989.529555   \n",
      "4       2012           4          2.0  ...   811.518634          NaN   \n",
      "\n",
      "   business_inc   other_inc  agriculture_inc  livestock_inc       wealth  \\\n",
      "0    717.277761    0.000000              NaN            NaN   102.530580   \n",
      "1    890.052696    0.000000              NaN            NaN   821.989843   \n",
      "2           NaN    0.000000              NaN      91.623072  1202.661890   \n",
      "3    628.272491    0.000000              NaN            NaN   494.764587   \n",
      "4    157.068123  654.450512              NaN            NaN    54.537543   \n",
      "\n",
      "   asset_value  wealth_agrls  land_value_hat  \n",
      "0   102.530580           NaN             NaN  \n",
      "1   821.989843           NaN             NaN  \n",
      "2   268.324710     934.33718             NaN  \n",
      "3   494.764587           NaN             NaN  \n",
      "4    54.537543           NaN             NaN  \n",
      "\n",
      "[5 rows x 30 columns]\n"
     ]
    }
   ],
   "source": [
    "import numpy as np\n",
    "import pandas as pd\n",
    "import os\n",
    "os.chdir(\"/Users/millypeacock/Library/CloudStorage/OneDrive-UniversityofEdinburgh/Programming_directory/code/\")\n",
    "\n",
    "file_path = \"UNPS_1112_PS2.xls\"\n",
    "df = pd.read_excel(file_path)\n",
    "\n",
    "# display the first few rows = inspect the data\n",
    "print(df.head())"
   ]
  },
  {
   "cell_type": "code",
   "execution_count": 3,
   "id": "b2ad14fd",
   "metadata": {},
   "outputs": [
    {
     "name": "stdout",
     "output_type": "stream",
     "text": [
      "There are no duplicate households.\n",
      "The total number of observations in the data: 2613\n"
     ]
    }
   ],
   "source": [
    "#a - duplicate households\n",
    "\n",
    "duplicates = df.duplicated(subset=['hhid'])\n",
    "\n",
    "# counting the total number of observations in the data\n",
    "total_observations = df.shape[0]\n",
    "\n",
    "# counting the number of duplicate households\n",
    "total_duplicates = duplicates.sum()\n",
    "\n",
    "if total_duplicates > 0:\n",
    "    print(f\"There are {total_duplicates} duplicate households.\")\n",
    "else:\n",
    "    print(\"There are no duplicate households.\")\n",
    "\n",
    "print(f\"The total number of observations in the data: {total_observations}\")"
   ]
  },
  {
   "cell_type": "code",
   "execution_count": 4,
   "id": "fa58218a",
   "metadata": {},
   "outputs": [
    {
     "name": "stdout",
     "output_type": "stream",
     "text": [
      "       head_gender     head_age   familysize  consumption        income  \\\n",
      "count  2597.000000  2597.000000  2597.000000  2613.000000   2613.000000   \n",
      "mean      1.314209    46.068156     7.480554  1803.792687   1860.075795   \n",
      "std       0.464289    15.068960     3.712526  1308.742941   2607.517603   \n",
      "min       1.000000    14.000000     1.000000   250.305506     27.486921   \n",
      "50%       1.000000    44.000000     7.000000  1426.614855   1061.194208   \n",
      "max       2.000000   100.000000    33.000000  8369.898484  52137.736864   \n",
      "\n",
      "             wealth  \n",
      "count   2613.000000  \n",
      "mean    4912.698146  \n",
      "std     8359.886497  \n",
      "min        0.000000  \n",
      "50%     2108.598380  \n",
      "max    76396.339917  \n",
      "\n",
      "Missing Observations:\n",
      "head_gender    16\n",
      "head_age       16\n",
      "familysize     16\n",
      "consumption     0\n",
      "income          0\n",
      "wealth          0\n",
      "dtype: int64\n",
      "\n",
      "Potential Outliers:\n",
      "head_age       224\n",
      "consumption    262\n",
      "income         262\n",
      "wealth         262\n",
      "dtype: int64\n"
     ]
    }
   ],
   "source": [
    "#b - summary statistics \n",
    "\n",
    "# basic summary statistics\n",
    "summary_stats = df[['head_gender', 'head_age', 'familysize', 'consumption', 'income', 'wealth']].describe(percentiles=[0.5])\n",
    "\n",
    "# checking for missing observations\n",
    "missing_values = df[['head_gender', 'head_age', 'familysize', 'consumption', 'income', 'wealth']].isnull().sum()\n",
    "\n",
    "# checking for potential outliers\n",
    "potential_outliers = df[['head_age', 'consumption', 'income', 'wealth']]\n",
    "\n",
    "# displaying the summary statistics\n",
    "print(summary_stats)\n",
    "\n",
    "# commenting on missing observations and potential outliers\n",
    "print(\"\\nMissing Observations:\")\n",
    "print(missing_values)\n",
    "\n",
    "print(\"\\nPotential Outliers:\")\n",
    "print(potential_outliers[(potential_outliers < potential_outliers.quantile(0.05)) | (potential_outliers > potential_outliers.quantile(0.95))].count())"
   ]
  },
  {
   "cell_type": "code",
   "execution_count": 5,
   "id": "c29498a8",
   "metadata": {},
   "outputs": [
    {
     "name": "stdout",
     "output_type": "stream",
     "text": [
      "The proportion of households where the head is female: 31.23%\n"
     ]
    }
   ],
   "source": [
    "#c - dummy female gender variable\n",
    "\n",
    "# dummy variable 'female_head' based on 'head_gender'\n",
    "df['female_head'] = (df['head_gender'] == 2).astype(int)\n",
    "\n",
    "# proportion of households where the head is female\n",
    "proportion_female = df['female_head'].mean()\n",
    "\n",
    "print(f\"The proportion of households where the head is female: {proportion_female:.2%}\")"
   ]
  },
  {
   "cell_type": "code",
   "execution_count": 6,
   "id": "724d45d1",
   "metadata": {},
   "outputs": [
    {
     "name": "stdout",
     "output_type": "stream",
     "text": [
      "             consumption  familysize   head_age\n",
      "female_head                                    \n",
      "0            1899.392959    7.720943  44.388546\n",
      "1            1593.261206    6.955882  49.734069\n"
     ]
    }
   ],
   "source": [
    "#d - groupby gender \n",
    "\n",
    "# group by 'female_head' and find averages\n",
    "grouped_data = df.groupby(by='female_head').agg({'consumption': 'mean','familysize': 'mean', 'head_age': 'mean'})\n",
    "\n",
    "# result\n",
    "print(grouped_data)"
   ]
  },
  {
   "cell_type": "code",
   "execution_count": null,
   "id": "50cf48d6",
   "metadata": {},
   "outputs": [],
   "source": [
    "#Exercise 2 - Inequality in Uganda "
   ]
  },
  {
   "cell_type": "code",
   "execution_count": 7,
   "id": "970f5136",
   "metadata": {},
   "outputs": [
    {
     "data": {
      "image/png": "[encoded data removed]",
      "text/plain": [
       "<Figure size 640x480 with 1 Axes>"
      ]
     },
     "metadata": {},
     "output_type": "display_data"
    }
   ],
   "source": [
    "#a - create logged variables and plot \n",
    "\n",
    "import matplotlib.pyplot as plt\n",
    "\n",
    "# converting 'consumption', 'income', and 'wealth' columns to numeric so no nan \n",
    "df['consumption'] = pd.to_numeric(df['consumption'], errors='coerce')\n",
    "df['income'] = pd.to_numeric(df['income'], errors='coerce')\n",
    "df['wealth'] = pd.to_numeric(df['wealth'], errors='coerce')\n",
    "\n",
    "# log-transformed variables\n",
    "df['log_c'] = np.log1p(df['consumption'])\n",
    "df['log_inc'] = np.log1p(df['income'])\n",
    "df['log_w'] = np.log1p(df['wealth'])\n",
    "\n",
    "# plot\n",
    "plt.hist(df['log_c'], bins=50, label='Log of Consumption', alpha=0.5)\n",
    "plt.hist(df['log_inc'], bins=50, label='Log of Income', alpha=0.5)\n",
    "\n",
    "# labels and title\n",
    "plt.xlabel('Logarithm of Value')\n",
    "plt.ylabel('Frequency')\n",
    "plt.title('Distribution of Log of Consumption and Log of Income')\n",
    "\n",
    "# legend\n",
    "plt.legend()\n",
    "\n",
    "# show the plot\n",
    "plt.show()"
   ]
  },
  {
   "cell_type": "code",
   "execution_count": 8,
   "id": "046cb5ce",
   "metadata": {},
   "outputs": [
    {
     "name": "stdout",
     "output_type": "stream",
     "text": [
      "Variance of the log of consumption: 0.4486\n",
      "Variance of the log of income: 1.3325\n",
      "Variance of the log of wealth: 2.9748\n"
     ]
    }
   ],
   "source": [
    "#b - variance of logs\n",
    "\n",
    "## variance of logs:\n",
    "    \n",
    "variance_log_c = np.var(df['log_c'])\n",
    "variance_log_inc = np.var(df['log_inc'])\n",
    "variance_log_w = np.var(df[\"log_w\"])\n",
    "\n",
    "print(f\"Variance of the log of consumption: {variance_log_c:.4f}\")\n",
    "print(f\"Variance of the log of income: {variance_log_inc:.4f}\")\n",
    "print(f\"Variance of the log of wealth: {variance_log_w:.4f}\")"
   ]
  },
  {
   "cell_type": "code",
   "execution_count": 9,
   "id": "7638ed61",
   "metadata": {},
   "outputs": [
    {
     "name": "stdout",
     "output_type": "stream",
     "text": [
      "       consumption       income       wealth\n",
      "urban                                       \n",
      "0      1629.450928  1713.962054  4520.995235\n",
      "1      2544.220036  2480.619091  6576.255691\n",
      "Clearly larger in urban areas.\n"
     ]
    }
   ],
   "source": [
    "#c - urban and rural \n",
    "\n",
    "## by urban and rural \n",
    "\n",
    "grouped_area_data = df.groupby(by='urban').agg({'consumption':'mean', 'income':'mean', 'wealth':'mean'})\n",
    "\n",
    "#result\n",
    "print(grouped_area_data)\n",
    "\n",
    "# are the differences between the two areas large?\n",
    "print(\"Clearly larger in urban areas.\")"
   ]
  },
  {
   "cell_type": "code",
   "execution_count": 10,
   "id": "a3d03910",
   "metadata": {},
   "outputs": [
    {
     "name": "stdout",
     "output_type": "stream",
     "text": [
      "          log_c   log_inc     log_w\n",
      "urban                              \n",
      "0      0.413217  1.336280  2.518233\n",
      "1      0.438784  1.104759  4.881224\n"
     ]
    }
   ],
   "source": [
    "#d - urban and rural variance\n",
    "\n",
    "## variance of logs for urban and rural:\n",
    "    \n",
    "variance_log_area = df.groupby(by='urban').agg({'log_c':'var', 'log_inc':'var', 'log_w':'var'})\n",
    "\n",
    "print(variance_log_area)"
   ]
  },
  {
   "cell_type": "code",
   "execution_count": 11,
   "id": "32cbaca0",
   "metadata": {},
   "outputs": [
    {
     "name": "stdout",
     "output_type": "stream",
     "text": [
      "Gini coefficient for consumption: 0.3653\n",
      "Gini coefficient for income: 0.5552\n",
      "Gini coefficient for wealth: 0.6564\n"
     ]
    }
   ],
   "source": [
    "#e - gini coefficient \n",
    "\n",
    "##gini coefficient \n",
    "\n",
    "#NB: requires sorting data by variable of interest and performing sums \n",
    "\n",
    "import scipy as sc\n",
    "\n",
    "from scipy.stats import rankdata\n",
    "\n",
    "def gini_coefficient(x):\n",
    "    n = len(x) #number of observations \n",
    "    ranked = rankdata(x) #rank the values in 'x' \n",
    "    #gini coeff formula: \n",
    "    gini = 1 - (2 * (np.sum((n + 1 - ranked) * x)) / (n * np.sum(x)))\n",
    "    return gini\n",
    "\n",
    "## NB: The Gini coefficient captures how far the Lorenz curve falls from the 'line of equality' by comparing the areas A and B, as calculated in the following way: \n",
    "    ##Gini coefficient = A / (A + B)\n",
    "    # rank values in ascending order (hence why we use rankdata i guess)\n",
    "\n",
    "# gini coeff for cons, income and wealth:\n",
    "    \n",
    "gini_consumption = gini_coefficient(df['consumption'].dropna())\n",
    "gini_income = gini_coefficient(df['income'].dropna())\n",
    "gini_wealth = gini_coefficient(df['wealth'].dropna())\n",
    "\n",
    "# nb: dropna removes NaN values \n",
    "\n",
    "print(f\"Gini coefficient for consumption: {gini_consumption:.4f}\")\n",
    "print(f\"Gini coefficient for income: {gini_income:.4f}\")\n",
    "print(f\"Gini coefficient for wealth: {gini_wealth:.4f}\")"
   ]
  },
  {
   "cell_type": "code",
   "execution_count": 12,
   "id": "a9c068e3",
   "metadata": {},
   "outputs": [
    {
     "name": "stdout",
     "output_type": "stream",
     "text": [
      "Share of wealth held by the bottom 50%: 49.97%\n",
      "Share of wealth held by the top 10%: 9.75%\n",
      "Share of wealth held by the top 5%: 4.65%\n",
      "Share of wealth held by the top 1%: 0.60%\n"
     ]
    }
   ],
   "source": [
    "#f - shares of wealth\n",
    "\n",
    "## share of wealth - use cumulative dist of wealth \n",
    "\n",
    "#sort df by wealth:\n",
    "df_sorted = df.sort_values(by='wealth', ascending=False)\n",
    "\n",
    "#cumulative wealth: \n",
    "df_sorted['cumulative_wealth']=df_sorted['wealth'].cumsum()\n",
    "\n",
    "#total wealth:\n",
    "total_wealth = df_sorted['wealth'].sum()\n",
    "\n",
    "#share of wealth for different percentiles:\n",
    "share_bottom_50 = df_sorted[df_sorted['cumulative_wealth'] <= total_wealth * 0.5]['wealth'].sum() / total_wealth\n",
    "share_top_10 = df_sorted[df_sorted['cumulative_wealth'] <= total_wealth * 0.1]['wealth'].sum() / total_wealth\n",
    "share_top_5 = df_sorted[df_sorted['cumulative_wealth'] <= total_wealth * 0.05]['wealth'].sum() / total_wealth\n",
    "share_top_1 = df_sorted[df_sorted['cumulative_wealth'] <= total_wealth * 0.01]['wealth'].sum() / total_wealth\n",
    "\n",
    "print(f\"Share of wealth held by the bottom 50%: {share_bottom_50:.2%}\")\n",
    "print(f\"Share of wealth held by the top 10%: {share_top_10:.2%}\")\n",
    "print(f\"Share of wealth held by the top 5%: {share_top_5:.2%}\")\n",
    "print(f\"Share of wealth held by the top 1%: {share_top_1:.2%}\")"
   ]
  },
  {
   "cell_type": "code",
   "execution_count": null,
   "id": "db0f1b68",
   "metadata": {},
   "outputs": [],
   "source": [
    "#Exercise 3 - The lifecycle of male vs female head households in Uganda"
   ]
  },
  {
   "cell_type": "code",
   "execution_count": 13,
   "id": "65c78c0a",
   "metadata": {},
   "outputs": [
    {
     "name": "stdout",
     "output_type": "stream",
     "text": [
      "Unique values in 'head_age': [ 35.  32.  39.  51.  29.  72.  48.  42.  60.  38.  40.  50.  36.  45.\n",
      "  31.  37.  44.  27.  59.  54.  49.  28.  24.  56.  66.  33.  22.  23.\n",
      "  43.  46.  47.  30.  58.  82.  34.  73.  25.  52.  89.  71.  41.  61.\n",
      "  98.  57.  63.  67.  55.  53.  76.  64.  77. 100.  26.  91.  79.  65.\n",
      "  62.  nan  83.  68.  74.  81.  70.  84.  75.  87.  86.  92.  20.  69.\n",
      "  21.  80.  88.  78.  19.  85.  18.  17.  16.  14.  90.  94.  97.]\n"
     ]
    },
    {
     "name": "stderr",
     "output_type": "stream",
     "text": [
      "/var/folders/vb/mxswvzjx65nds_45glkv883r0000gn/T/ipykernel_72609/870570231.py:18: SettingWithCopyWarning: \n",
      "A value is trying to be set on a copy of a slice from a DataFrame.\n",
      "Try using .loc[row_indexer,col_indexer] = value instead\n",
      "\n",
      "See the caveats in the documentation: https://pandas.pydata.org/pandas-docs/stable/user_guide/indexing.html#returning-a-view-versus-a-copy\n",
      "  df_filtered.loc[:, 'age_group'] = pd.cut(df_filtered['head_age'], bins=age_bins)\n"
     ]
    },
    {
     "ename": "TypeError",
     "evalue": "Invalid object type at position 0",
     "output_type": "error",
     "traceback": [
      "\u001b[0;31m---------------------------------------------------------------------------\u001b[0m",
      "\u001b[0;31mTypeError\u001b[0m                                 Traceback (most recent call last)",
      "File \u001b[0;32m~/anaconda3/lib/python3.11/site-packages/pandas/_libs/lib.pyx:2369\u001b[0m, in \u001b[0;36mpandas._libs.lib.maybe_convert_numeric\u001b[0;34m()\u001b[0m\n",
      "\u001b[0;31mTypeError\u001b[0m: Invalid object type",
      "\nDuring handling of the above exception, another exception occurred:\n",
      "\u001b[0;31mTypeError\u001b[0m                                 Traceback (most recent call last)",
      "Cell \u001b[0;32mIn[13], line 22\u001b[0m\n\u001b[1;32m     20\u001b[0m \u001b[38;5;66;03m# plots using seaborn \u001b[39;00m\n\u001b[1;32m     21\u001b[0m plt\u001b[38;5;241m.\u001b[39mfigure(figsize\u001b[38;5;241m=\u001b[39m(\u001b[38;5;241m12\u001b[39m, \u001b[38;5;241m6\u001b[39m))\n\u001b[0;32m---> 22\u001b[0m sns\u001b[38;5;241m.\u001b[39mlineplot(x\u001b[38;5;241m=\u001b[39m\u001b[38;5;124m'\u001b[39m\u001b[38;5;124mage_group\u001b[39m\u001b[38;5;124m'\u001b[39m, y\u001b[38;5;241m=\u001b[39m\u001b[38;5;124m'\u001b[39m\u001b[38;5;124mlog_c\u001b[39m\u001b[38;5;124m'\u001b[39m, hue\u001b[38;5;241m=\u001b[39m\u001b[38;5;124m'\u001b[39m\u001b[38;5;124mhead_gender\u001b[39m\u001b[38;5;124m'\u001b[39m, data\u001b[38;5;241m=\u001b[39mdf_filtered)\n\u001b[1;32m     24\u001b[0m plt\u001b[38;5;241m.\u001b[39mxlabel(\u001b[38;5;124m'\u001b[39m\u001b[38;5;124mAge Group\u001b[39m\u001b[38;5;124m'\u001b[39m)\n\u001b[1;32m     25\u001b[0m plt\u001b[38;5;241m.\u001b[39mylabel(\u001b[38;5;124m'\u001b[39m\u001b[38;5;124mLog of Consumption\u001b[39m\u001b[38;5;124m'\u001b[39m)\n",
      "File \u001b[0;32m~/anaconda3/lib/python3.11/site-packages/seaborn/relational.py:645\u001b[0m, in \u001b[0;36mlineplot\u001b[0;34m(data, x, y, hue, size, style, units, palette, hue_order, hue_norm, sizes, size_order, size_norm, dashes, markers, style_order, estimator, errorbar, n_boot, seed, orient, sort, err_style, err_kws, legend, ci, ax, **kwargs)\u001b[0m\n\u001b[1;32m    642\u001b[0m color \u001b[38;5;241m=\u001b[39m kwargs\u001b[38;5;241m.\u001b[39mpop(\u001b[38;5;124m\"\u001b[39m\u001b[38;5;124mcolor\u001b[39m\u001b[38;5;124m\"\u001b[39m, kwargs\u001b[38;5;241m.\u001b[39mpop(\u001b[38;5;124m\"\u001b[39m\u001b[38;5;124mc\u001b[39m\u001b[38;5;124m\"\u001b[39m, \u001b[38;5;28;01mNone\u001b[39;00m))\n\u001b[1;32m    643\u001b[0m kwargs[\u001b[38;5;124m\"\u001b[39m\u001b[38;5;124mcolor\u001b[39m\u001b[38;5;124m\"\u001b[39m] \u001b[38;5;241m=\u001b[39m _default_color(ax\u001b[38;5;241m.\u001b[39mplot, hue, color, kwargs)\n\u001b[0;32m--> 645\u001b[0m p\u001b[38;5;241m.\u001b[39mplot(ax, kwargs)\n\u001b[1;32m    646\u001b[0m \u001b[38;5;28;01mreturn\u001b[39;00m ax\n",
      "File \u001b[0;32m~/anaconda3/lib/python3.11/site-packages/seaborn/relational.py:423\u001b[0m, in \u001b[0;36m_LinePlotter.plot\u001b[0;34m(self, ax, kws)\u001b[0m\n\u001b[1;32m    415\u001b[0m \u001b[38;5;66;03m# TODO How to handle NA? We don't want NA to propagate through to the\u001b[39;00m\n\u001b[1;32m    416\u001b[0m \u001b[38;5;66;03m# estimate/CI when some values are present, but we would also like\u001b[39;00m\n\u001b[1;32m    417\u001b[0m \u001b[38;5;66;03m# matplotlib to show \"gaps\" in the line when all values are missing.\u001b[39;00m\n\u001b[0;32m   (...)\u001b[0m\n\u001b[1;32m    420\u001b[0m \n\u001b[1;32m    421\u001b[0m \u001b[38;5;66;03m# Loop over the semantic subsets and add to the plot\u001b[39;00m\n\u001b[1;32m    422\u001b[0m grouping_vars \u001b[38;5;241m=\u001b[39m \u001b[38;5;124m\"\u001b[39m\u001b[38;5;124mhue\u001b[39m\u001b[38;5;124m\"\u001b[39m, \u001b[38;5;124m\"\u001b[39m\u001b[38;5;124msize\u001b[39m\u001b[38;5;124m\"\u001b[39m, \u001b[38;5;124m\"\u001b[39m\u001b[38;5;124mstyle\u001b[39m\u001b[38;5;124m\"\u001b[39m\n\u001b[0;32m--> 423\u001b[0m \u001b[38;5;28;01mfor\u001b[39;00m sub_vars, sub_data \u001b[38;5;129;01min\u001b[39;00m \u001b[38;5;28mself\u001b[39m\u001b[38;5;241m.\u001b[39miter_data(grouping_vars, from_comp_data\u001b[38;5;241m=\u001b[39m\u001b[38;5;28;01mTrue\u001b[39;00m):\n\u001b[1;32m    425\u001b[0m     \u001b[38;5;28;01mif\u001b[39;00m \u001b[38;5;28mself\u001b[39m\u001b[38;5;241m.\u001b[39msort:\n\u001b[1;32m    426\u001b[0m         sort_vars \u001b[38;5;241m=\u001b[39m [\u001b[38;5;124m\"\u001b[39m\u001b[38;5;124munits\u001b[39m\u001b[38;5;124m\"\u001b[39m, orient, other]\n",
      "File \u001b[0;32m~/anaconda3/lib/python3.11/site-packages/seaborn/_oldcore.py:1028\u001b[0m, in \u001b[0;36mVectorPlotter.iter_data\u001b[0;34m(self, grouping_vars, reverse, from_comp_data, by_facet, allow_empty, dropna)\u001b[0m\n\u001b[1;32m   1023\u001b[0m grouping_vars \u001b[38;5;241m=\u001b[39m [\n\u001b[1;32m   1024\u001b[0m     var \u001b[38;5;28;01mfor\u001b[39;00m var \u001b[38;5;129;01min\u001b[39;00m grouping_vars \u001b[38;5;28;01mif\u001b[39;00m var \u001b[38;5;129;01min\u001b[39;00m \u001b[38;5;28mself\u001b[39m\u001b[38;5;241m.\u001b[39mvariables\n\u001b[1;32m   1025\u001b[0m ]\n\u001b[1;32m   1027\u001b[0m \u001b[38;5;28;01mif\u001b[39;00m from_comp_data:\n\u001b[0;32m-> 1028\u001b[0m     data \u001b[38;5;241m=\u001b[39m \u001b[38;5;28mself\u001b[39m\u001b[38;5;241m.\u001b[39mcomp_data\n\u001b[1;32m   1029\u001b[0m \u001b[38;5;28;01melse\u001b[39;00m:\n\u001b[1;32m   1030\u001b[0m     data \u001b[38;5;241m=\u001b[39m \u001b[38;5;28mself\u001b[39m\u001b[38;5;241m.\u001b[39mplot_data\n",
      "File \u001b[0;32m~/anaconda3/lib/python3.11/site-packages/seaborn/_oldcore.py:1126\u001b[0m, in \u001b[0;36mVectorPlotter.comp_data\u001b[0;34m(self)\u001b[0m\n\u001b[1;32m   1121\u001b[0m     \u001b[38;5;28;01mif\u001b[39;00m var \u001b[38;5;129;01min\u001b[39;00m \u001b[38;5;28mself\u001b[39m\u001b[38;5;241m.\u001b[39mvar_levels:\n\u001b[1;32m   1122\u001b[0m         \u001b[38;5;66;03m# TODO this should happen in some centralized location\u001b[39;00m\n\u001b[1;32m   1123\u001b[0m         \u001b[38;5;66;03m# it is similar to GH2419, but more complicated because\u001b[39;00m\n\u001b[1;32m   1124\u001b[0m         \u001b[38;5;66;03m# supporting `order` in categorical plots is tricky\u001b[39;00m\n\u001b[1;32m   1125\u001b[0m         orig \u001b[38;5;241m=\u001b[39m orig[orig\u001b[38;5;241m.\u001b[39misin(\u001b[38;5;28mself\u001b[39m\u001b[38;5;241m.\u001b[39mvar_levels[var])]\n\u001b[0;32m-> 1126\u001b[0m comp \u001b[38;5;241m=\u001b[39m pd\u001b[38;5;241m.\u001b[39mto_numeric(converter\u001b[38;5;241m.\u001b[39mconvert_units(orig))\n\u001b[1;32m   1127\u001b[0m \u001b[38;5;28;01mif\u001b[39;00m converter\u001b[38;5;241m.\u001b[39mget_scale() \u001b[38;5;241m==\u001b[39m \u001b[38;5;124m\"\u001b[39m\u001b[38;5;124mlog\u001b[39m\u001b[38;5;124m\"\u001b[39m:\n\u001b[1;32m   1128\u001b[0m     comp \u001b[38;5;241m=\u001b[39m np\u001b[38;5;241m.\u001b[39mlog10(comp)\n",
      "File \u001b[0;32m~/anaconda3/lib/python3.11/site-packages/pandas/core/tools/numeric.py:185\u001b[0m, in \u001b[0;36mto_numeric\u001b[0;34m(arg, errors, downcast)\u001b[0m\n\u001b[1;32m    183\u001b[0m coerce_numeric \u001b[38;5;241m=\u001b[39m errors \u001b[38;5;129;01mnot\u001b[39;00m \u001b[38;5;129;01min\u001b[39;00m (\u001b[38;5;124m\"\u001b[39m\u001b[38;5;124mignore\u001b[39m\u001b[38;5;124m\"\u001b[39m, \u001b[38;5;124m\"\u001b[39m\u001b[38;5;124mraise\u001b[39m\u001b[38;5;124m\"\u001b[39m)\n\u001b[1;32m    184\u001b[0m \u001b[38;5;28;01mtry\u001b[39;00m:\n\u001b[0;32m--> 185\u001b[0m     values, _ \u001b[38;5;241m=\u001b[39m lib\u001b[38;5;241m.\u001b[39mmaybe_convert_numeric(\n\u001b[1;32m    186\u001b[0m         values, \u001b[38;5;28mset\u001b[39m(), coerce_numeric\u001b[38;5;241m=\u001b[39mcoerce_numeric\n\u001b[1;32m    187\u001b[0m     )\n\u001b[1;32m    188\u001b[0m \u001b[38;5;28;01mexcept\u001b[39;00m (\u001b[38;5;167;01mValueError\u001b[39;00m, \u001b[38;5;167;01mTypeError\u001b[39;00m):\n\u001b[1;32m    189\u001b[0m     \u001b[38;5;28;01mif\u001b[39;00m errors \u001b[38;5;241m==\u001b[39m \u001b[38;5;124m\"\u001b[39m\u001b[38;5;124mraise\u001b[39m\u001b[38;5;124m\"\u001b[39m:\n",
      "File \u001b[0;32m~/anaconda3/lib/python3.11/site-packages/pandas/_libs/lib.pyx:2411\u001b[0m, in \u001b[0;36mpandas._libs.lib.maybe_convert_numeric\u001b[0;34m()\u001b[0m\n",
      "\u001b[0;31mTypeError\u001b[0m: Invalid object type at position 0"
     ]
    },
    {
     "data": {
      "image/png": "[encoded data removed]",
      "text/plain": [
       "<Figure size 1200x600 with 1 Axes>"
      ]
     },
     "metadata": {},
     "output_type": "display_data"
    }
   ],
   "source": [
    "#a - lifecycle of log of consumption \n",
    "\n",
    "import seaborn as sns\n",
    "\n",
    "df['head_age'] = pd.to_numeric(df['head_age'], errors='coerce')\n",
    "\n",
    "# check\n",
    "unique_values = df['head_age'].unique()\n",
    "print(\"Unique values in 'head_age':\", unique_values)\n",
    "\n",
    "# drop rows with missing numbers ?\n",
    "df = df.dropna(subset=['head_age'])\n",
    "\n",
    "df_filtered = df[(df['head_age'] >= 18) & (df['head_age'] <= 80)]\n",
    "\n",
    "# group ages into bins \n",
    "age_bins = [18, 30, 40, 50, 60, 70, 80]\n",
    "df_filtered.loc[:, 'age_group'] = pd.cut(df_filtered['head_age'], bins=age_bins)\n",
    "\n",
    "# plots using seaborn \n",
    "plt.figure(figsize=(12, 6))\n",
    "sns.lineplot(x='age_group', y='log_c', hue='head_gender', data=df_filtered)\n",
    "\n",
    "plt.xlabel('Age Group')\n",
    "plt.ylabel('Log of Consumption')\n",
    "plt.title('Lifecycle of Log of Consumption by Gender of Household Head')\n",
    "\n",
    "# show plot\n",
    "plt.show()"
   ]
  },
  {
   "cell_type": "code",
   "execution_count": 2,
   "id": "e964d666",
   "metadata": {},
   "outputs": [],
   "source": [
    "#error above - cannot work out what is wrong "
   ]
  }
 ],
 "metadata": {
  "kernelspec": {
   "display_name": "Python 3 (ipykernel)",
   "language": "python",
   "name": "python3"
  },
  "language_info": {
   "codemirror_mode": {
    "name": "ipython",
    "version": 3
   },
   "file_extension": ".py",
   "mimetype": "text/x-python",
   "name": "python",
   "nbconvert_exporter": "python",
   "pygments_lexer": "ipython3",
   "version": "3.11.5"
  }
 },
 "nbformat": 4,
 "nbformat_minor": 5
}
